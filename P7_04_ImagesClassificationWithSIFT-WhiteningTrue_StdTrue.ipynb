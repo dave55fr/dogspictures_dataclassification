{
 "cells": [
  {
   "cell_type": "markdown",
   "metadata": {},
   "source": [
    "### ImagesClassificationWithSIFT with zca_whitening_parameter to True and featurewise_std_normalization_parameter to True"
   ]
  },
  {
   "cell_type": "code",
   "execution_count": 1,
   "metadata": {},
   "outputs": [
    {
     "name": "stdout",
     "output_type": "stream",
     "text": [
      "Python Version :sys.version_info(major=3, minor=7, micro=7, releaselevel='final', serial=0)\n",
      "CSV Version :1.0\n",
      "Numpy Version :1.18.5\n",
      "Pandas Version :1.0.5\n",
      "Seaborn Version :0.10.1\n",
      "OpenCV Version : 3.4.2\n",
      "Sklearn Version : 0.23.1\n",
      "Catboost Version : 0.24\n"
     ]
    },
    {
     "name": "stderr",
     "output_type": "stream",
     "text": [
      "Using TensorFlow backend.\n"
     ]
    },
    {
     "name": "stdout",
     "output_type": "stream",
     "text": [
      "Keras Version : 2.2.4-tf\n",
      "Tensorflow Version : 2.1.0\n"
     ]
    }
   ],
   "source": [
    "## To display the graphs within the code and not in another windows \n",
    "import sys\n",
    "print(\"Python Version :\"+str(sys.version_info))\n",
    "%matplotlib inline\n",
    "# To be able to use CSV\n",
    "import csv\n",
    "print(\"CSV Version :\"+csv.__version__)\n",
    "# To be able to use Numpy\n",
    "import numpy as np\n",
    "print(\"Numpy Version :\"+np.__version__)\n",
    "# To be able to use Pandas\n",
    "import pandas as pd\n",
    "print(\"Pandas Version :\"+pd.__version__)\n",
    "# To be able to use Maplotlib\n",
    "import matplotlib.pyplot as plt\n",
    "\n",
    "# To be able to use Seaborn\n",
    "import seaborn as sns\n",
    "print(\"Seaborn Version :\"+sns.__version__)\n",
    "\n",
    "\n",
    "# import scipy as sio\n",
    "# print(\"Scipy Version :\"+sio.__version__)\n",
    "import scipy.io as sio\n",
    "import os\n",
    "import shutil\n",
    "import random\n",
    "import cv2 as cv\n",
    "print(\"OpenCV Version : \"+cv.__version__)\n",
    "from PIL import Image\n",
    "\n",
    "# To be able to use Warning\n",
    "import warnings\n",
    "import sklearn\n",
    "print(\"Sklearn Version : \"+sklearn.__version__)\n",
    "from sklearn.cluster import MiniBatchKMeans\n",
    "from sklearn import metrics\n",
    "from sklearn.model_selection import GridSearchCV\n",
    "from sklearn.preprocessing import LabelEncoder, normalize\n",
    "from sklearn.linear_model import LogisticRegression\n",
    "from sklearn.metrics import accuracy_score\n",
    "from sklearn.metrics import classification_report, confusion_matrix\n",
    "from catboost import CatBoostClassifier\n",
    "import catboost\n",
    "print(\"Catboost Version : \"+catboost.__version__)\n",
    "from catboost import CatBoostClassifier\n",
    "# from utils import plot_confusion_matrix\n",
    "\n",
    "from keras.preprocessing.image import load_img, img_to_array\n",
    "from keras.applications.xception import preprocess_input\n",
    "from keras.applications import *\n",
    "from keras.applications.xception import decode_predictions\n",
    "from keras.layers import Dense\n",
    "from keras.models import Model\n",
    "from keras.preprocessing.image import ImageDataGenerator\n",
    "from keras.preprocessing.image import ImageDataGenerator\n",
    "from keras.layers import GlobalAveragePooling2D\n",
    "from keras.callbacks import ModelCheckpoint, EarlyStopping\n",
    "from keras.optimizers import *\n",
    "import tensorflow as tf\n",
    "print(\"Keras Version : \"+tf.keras.__version__)\n",
    "print(\"Tensorflow Version : \"+tf.__version__)"
   ]
  },
  {
   "cell_type": "code",
   "execution_count": 2,
   "metadata": {},
   "outputs": [],
   "source": [
    "images_directory = './images/Images/'\n",
    "# train_contents = sio.loadmat('./lists/train_list.mat')\n",
    "# test_contents = sio.loadmat('./lists/test_list.mat')\n",
    "# file_list = sio.loadmat('./lists/file_list.mat')\n",
    "train_directory = './images/train/'\n",
    "test_directory = './images/test/'"
   ]
  },
  {
   "cell_type": "markdown",
   "metadata": {},
   "source": [
    "### Rename the folder names"
   ]
  },
  {
   "cell_type": "code",
   "execution_count": null,
   "metadata": {},
   "outputs": [],
   "source": [
    "def convert(word):\n",
    "    return ''.join(x.capitalize() or '_' for x in word.split('_'))"
   ]
  },
  {
   "cell_type": "code",
   "execution_count": null,
   "metadata": {},
   "outputs": [],
   "source": [
    "for root, dirs, files in os.walk(images_directory):\n",
    "    for count in dirs:\n",
    "        print(convert(count.split('-')[1].capitalize()))\n",
    "        os.rename(os.path.join(images_directory, count), os.path.join(images_directory, convert(count.split('-')[1].capitalize())))\n"
   ]
  },
  {
   "cell_type": "markdown",
   "metadata": {},
   "source": [
    "### Creation of the  train test directory"
   ]
  },
  {
   "cell_type": "code",
   "execution_count": null,
   "metadata": {},
   "outputs": [],
   "source": [
    "train_dir = './images/train/'\n",
    "test_dir = './images/test/'\n"
   ]
  },
  {
   "cell_type": "code",
   "execution_count": null,
   "metadata": {},
   "outputs": [],
   "source": [
    "files = [file for file in os.listdir(images_directory) if os.path.isfile(os.path.join(images_directory, file))]"
   ]
  },
  {
   "cell_type": "code",
   "execution_count": null,
   "metadata": {},
   "outputs": [],
   "source": [
    "directories = [directory for directory in os.listdir(images_directory)]"
   ]
  },
  {
   "cell_type": "code",
   "execution_count": null,
   "metadata": {},
   "outputs": [],
   "source": [
    "directories"
   ]
  },
  {
   "cell_type": "code",
   "execution_count": null,
   "metadata": {},
   "outputs": [],
   "source": [
    "for directory in directories:\n",
    "    os.mkdir(train_dir+directory)\n",
    "    os.mkdir(test_dir+directory)"
   ]
  },
  {
   "cell_type": "markdown",
   "metadata": {},
   "source": [
    "### Split train test"
   ]
  },
  {
   "cell_type": "code",
   "execution_count": null,
   "metadata": {},
   "outputs": [],
   "source": [
    "directories"
   ]
  },
  {
   "cell_type": "code",
   "execution_count": null,
   "metadata": {},
   "outputs": [],
   "source": [
    "for directory in directories:\n",
    "    files = [file for file in os.listdir(images_directory+directory) if os.path.isfile(os.path.join(images_directory+directory, file))]\n",
    "    train_count  = np.round(70/100*len(files))\n",
    "    test_count = np.round(30/100*len(files))\n",
    "    rndnums = list(random.sample(range(0, len(files)), len(files)))\n",
    "    print(\"len(files)\",len(files))\n",
    "    train_file_index = rndnums[0:int(train_count)+1]\n",
    "    train_file_name = [files[i] for i in train_file_index]\n",
    "    test_file_index = rndnums[int(train_count)+1:int(train_count + test_count)+1]\n",
    "    test_file_name = [files[i] for i in test_file_index]\n",
    "    for x in train_file_name:\n",
    "        file = x\n",
    "        shutil.copyfile(os.path.join(images_directory+directory, file), os.path.join(train_directory+directory, file))\n",
    "    ##test_files\n",
    "    for y in test_file_name:\n",
    "        file = y\n",
    "        shutil.copyfile(os.path.join(images_directory+directory, file), os.path.join(test_directory+directory, file))\n",
    "\n",
    "    "
   ]
  },
  {
   "cell_type": "code",
   "execution_count": null,
   "metadata": {},
   "outputs": [],
   "source": [
    "train_file_name"
   ]
  },
  {
   "cell_type": "code",
   "execution_count": null,
   "metadata": {},
   "outputs": [],
   "source": []
  },
  {
   "cell_type": "code",
   "execution_count": 3,
   "metadata": {},
   "outputs": [
    {
     "name": "stderr",
     "output_type": "stream",
     "text": [
      "/home/david/anaconda3/lib/python3.7/site-packages/keras_preprocessing/image/image_data_generator.py:336: UserWarning: This ImageDataGenerator specifies `zca_whitening`, which overrides setting of `featurewise_center`.\n",
      "  warnings.warn('This ImageDataGenerator specifies '\n",
      "/home/david/anaconda3/lib/python3.7/site-packages/keras_preprocessing/image/image_data_generator.py:341: UserWarning: This ImageDataGenerator specifies `zca_whitening` which overrides setting of`featurewise_std_normalization`.\n",
      "  warnings.warn('This ImageDataGenerator specifies '\n",
      "/home/david/anaconda3/lib/python3.7/site-packages/keras_preprocessing/image/image_data_generator.py:348: UserWarning: This ImageDataGenerator specifies `featurewise_std_normalization`, which overrides setting of `featurewise_center`.\n",
      "  warnings.warn('This ImageDataGenerator specifies '\n"
     ]
    }
   ],
   "source": [
    "input_directory='./images/'\n",
    "output_directory='./new_images/'\n",
    "small_directory_names = [directory for directory in os.listdir(input_directory+'train-small')]\n",
    "small_directory_names.sort()\n",
    "zca_whitening_parameter=True\n",
    "featurewise_std_normalization_parameter=True\n",
    "color_mode_parameter='grayscale'\n",
    "save_prefix_parameter='set1_'\n",
    "batch_size=2\n",
    "follow_links=True\n",
    "train_datagen = ImageDataGenerator(\n",
    "        rescale=1./255,\n",
    "        zca_whitening=zca_whitening_parameter,\n",
    "        featurewise_std_normalization=featurewise_std_normalization_parameter\n",
    "        )"
   ]
  },
  {
   "cell_type": "code",
   "execution_count": 4,
   "metadata": {},
   "outputs": [
    {
     "data": {
      "text/plain": [
       "['Basset', 'Cardigan', 'OldEnglishSheepdog']"
      ]
     },
     "execution_count": 4,
     "metadata": {},
     "output_type": "execute_result"
    }
   ],
   "source": [
    "small_directory_names"
   ]
  },
  {
   "cell_type": "code",
   "execution_count": 5,
   "metadata": {},
   "outputs": [],
   "source": [
    "myCategories = dict(enumerate(small_directory_names))"
   ]
  },
  {
   "cell_type": "code",
   "execution_count": 6,
   "metadata": {},
   "outputs": [
    {
     "data": {
      "text/plain": [
       "{0: 'Basset', 1: 'Cardigan', 2: 'OldEnglishSheepdog'}"
      ]
     },
     "execution_count": 6,
     "metadata": {},
     "output_type": "execute_result"
    }
   ],
   "source": [
    "myCategories"
   ]
  },
  {
   "cell_type": "code",
   "execution_count": 7,
   "metadata": {},
   "outputs": [
    {
     "name": "stdout",
     "output_type": "stream",
     "text": [
      "Found 350 images belonging to 3 classes.\n"
     ]
    }
   ],
   "source": [
    "train_generator = train_datagen.flow_from_directory(input_directory+'train-small', target_size=(224, 224), follow_links=True, batch_size=batch_size, class_mode='categorical', save_format='jpeg', classes=small_directory_names, subset='training', shuffle=False, color_mode=color_mode_parameter)"
   ]
  },
  {
   "cell_type": "code",
   "execution_count": 8,
   "metadata": {},
   "outputs": [
    {
     "name": "stdout",
     "output_type": "stream",
     "text": [
      "Found 148 images belonging to 3 classes.\n"
     ]
    }
   ],
   "source": [
    "test_generator = train_datagen.flow_from_directory(input_directory+'test-small', target_size=(224, 224), follow_links=True, batch_size=batch_size, class_mode='categorical', save_format='jpeg', classes=small_directory_names, shuffle=False, color_mode=color_mode_parameter)"
   ]
  },
  {
   "cell_type": "code",
   "execution_count": 9,
   "metadata": {},
   "outputs": [],
   "source": [
    "train_df = pd.DataFrame(columns=[\"Category\", \"Picture\",\"Descriptors\", \"NumberOfDescriptors\"])"
   ]
  },
  {
   "cell_type": "code",
   "execution_count": 10,
   "metadata": {},
   "outputs": [],
   "source": [
    "test_df = pd.DataFrame(columns=[\"Category\", \"Picture\",\"Descriptors\", \"NumberOfDescriptors\"])"
   ]
  },
  {
   "cell_type": "markdown",
   "metadata": {},
   "source": [
    "### Compute the descriptors  and add them with the category into a dataframe"
   ]
  },
  {
   "cell_type": "code",
   "execution_count": 11,
   "metadata": {},
   "outputs": [],
   "source": [
    "algo_constructor = cv.xfeatures2d.SIFT_create()\n",
    "def computeDescriptors(mygenerator, mydf, mydescriptors):\n",
    "    count = 0\n",
    "    for i in range(len(mygenerator)):\n",
    "    #next(train_generator)\n",
    "        for j in range(batch_size):\n",
    "            img = mygenerator[i][0][j].squeeze()\n",
    "            imgwithrgb = cv.merge([img, img, img])\n",
    "            image8bit = cv.normalize(imgwithrgb, None, 0, 255, cv.NORM_MINMAX).astype('uint8')\n",
    "            keypoints, descriptors = algo_constructor.detectAndCompute(image8bit, None)\n",
    "            mydf = mydf.append({'Category': mygenerator[i][1][j].tolist().index(1), 'Picture':image8bit, 'Descriptors':descriptors, 'NumberOfDescriptors':descriptors.shape[0]}, ignore_index='True')\n",
    "            mydescriptors.extend(descriptors)\n",
    "            count = count + 1\n",
    "            j = j+1\n",
    "    i = i+1\n",
    "    mydf['Category'] = mydf['Category'].map(myCategories) \n",
    "    return mydf, mydescriptors"
   ]
  },
  {
   "cell_type": "markdown",
   "metadata": {},
   "source": [
    "### Train "
   ]
  },
  {
   "cell_type": "code",
   "execution_count": 12,
   "metadata": {},
   "outputs": [
    {
     "name": "stderr",
     "output_type": "stream",
     "text": [
      "/home/david/anaconda3/lib/python3.7/site-packages/keras_preprocessing/image/image_data_generator.py:716: UserWarning: This ImageDataGenerator specifies `featurewise_center`, but it hasn't been fit on any training data. Fit it first by calling `.fit(numpy_data)`.\n",
      "  warnings.warn('This ImageDataGenerator specifies '\n",
      "/home/david/anaconda3/lib/python3.7/site-packages/keras_preprocessing/image/image_data_generator.py:735: UserWarning: This ImageDataGenerator specifies `zca_whitening`, but it hasn't been fit on any training data. Fit it first by calling `.fit(numpy_data)`.\n",
      "  warnings.warn('This ImageDataGenerator specifies '\n"
     ]
    }
   ],
   "source": [
    "train_descriptors_array=[]\n",
    "train_df, train_descriptors_array=computeDescriptors(train_generator, train_df, train_descriptors_array)"
   ]
  },
  {
   "cell_type": "code",
   "execution_count": null,
   "metadata": {},
   "outputs": [],
   "source": [
    "plt.imshow(train_df['Picture'][0])\n",
    "plt.show()"
   ]
  },
  {
   "cell_type": "code",
   "execution_count": null,
   "metadata": {},
   "outputs": [],
   "source": [
    "fig, axs = plt.subplots(1, 6, figsize=(60, 12))\n",
    "axs[0].set_title('An Original Picture in grayscale  ', fontsize=20)\n",
    "axs[0].imshow(train_df['Picture'][0], cmap='Greys_r')\n",
    "axs[1].set_title('Histogram of an original Picture in grayscale ', fontsize=20)\n",
    "axs[1].set_xlabel('Level of gray', fontsize=20)\n",
    "axs[1].set_ylabel('Number of pixels', fontsize=20)\n",
    "axs[1].hist(train_df['Picture'][0].ravel(), 256, [0, 256])\n"
   ]
  },
  {
   "cell_type": "markdown",
   "metadata": {},
   "source": [
    "### Test"
   ]
  },
  {
   "cell_type": "code",
   "execution_count": 13,
   "metadata": {},
   "outputs": [],
   "source": [
    "test_descriptors_array=[]\n",
    "test_df, test_descriptors_array=computeDescriptors(test_generator, test_df, test_descriptors_array)"
   ]
  },
  {
   "cell_type": "code",
   "execution_count": 14,
   "metadata": {},
   "outputs": [
    {
     "name": "stdout",
     "output_type": "stream",
     "text": [
      "113360\n"
     ]
    }
   ],
   "source": [
    "print(train_df['NumberOfDescriptors'].sum())"
   ]
  },
  {
   "cell_type": "code",
   "execution_count": 15,
   "metadata": {},
   "outputs": [
    {
     "name": "stdout",
     "output_type": "stream",
     "text": [
      "46444\n"
     ]
    }
   ],
   "source": [
    "print(test_df['NumberOfDescriptors'].sum())"
   ]
  },
  {
   "cell_type": "markdown",
   "metadata": {},
   "source": [
    "### Apply a Kmeans to get clusters"
   ]
  },
  {
   "cell_type": "code",
   "execution_count": 16,
   "metadata": {},
   "outputs": [
    {
     "name": "stdout",
     "output_type": "stream",
     "text": [
      "silhouette_score 0.0253173\n",
      "calinski_harabasz_score 560.2047246316502\n"
     ]
    }
   ],
   "source": [
    "# A k-means clustering algorithm who takes 2 parameter which is number\n",
    "# of cluster(k) and the other is descriptors list(unordered 1d array)\n",
    "# Returns an array that holds central points.\n",
    "def kmeans(k, descriptor_list):\n",
    "    # kmeans = KMeans(n_clusters=k, n_init=10)\n",
    "    mymodel = MiniBatchKMeans(n_clusters=k, n_init=10)\n",
    "    mymodel.fit(descriptor_list)\n",
    "    visual_words = mymodel.cluster_centers_\n",
    "    labels = mymodel.labels_\n",
    "    silhouette_score = metrics.silhouette_score(descriptor_list, labels)\n",
    "    calinski_harabasz_score = metrics.calinski_harabasz_score(descriptor_list, labels)\n",
    "    print('silhouette_score '+str(silhouette_score))\n",
    "    print('calinski_harabasz_score '+str(calinski_harabasz_score))\n",
    "    return mymodel, visual_words, labels\n",
    "# Takes the central points which is visual words\n",
    "model, visual_words, labels = kmeans(150, train_descriptors_array)"
   ]
  },
  {
   "cell_type": "code",
   "execution_count": 17,
   "metadata": {},
   "outputs": [],
   "source": [
    "X_train = pd.DataFrame(columns=range(len(visual_words)))\n",
    "X_test = pd.DataFrame(columns=range(len(visual_words)))"
   ]
  },
  {
   "cell_type": "code",
   "execution_count": 18,
   "metadata": {},
   "outputs": [],
   "source": [
    "for index, row in train_df.iterrows():\n",
    "    labels = model.predict(pd.DataFrame(row[\"Descriptors\"]).astype(float))\n",
    "    unique, counts = np.unique(labels, return_counts=True)\n",
    "    X_train = X_train.append(dict(zip(unique, counts)), ignore_index=True)"
   ]
  },
  {
   "cell_type": "code",
   "execution_count": 19,
   "metadata": {},
   "outputs": [],
   "source": [
    "X_train.fillna(0, inplace=True)"
   ]
  },
  {
   "cell_type": "code",
   "execution_count": 20,
   "metadata": {},
   "outputs": [
    {
     "data": {
      "text/html": [
       "<div>\n",
       "<style scoped>\n",
       "    .dataframe tbody tr th:only-of-type {\n",
       "        vertical-align: middle;\n",
       "    }\n",
       "\n",
       "    .dataframe tbody tr th {\n",
       "        vertical-align: top;\n",
       "    }\n",
       "\n",
       "    .dataframe thead th {\n",
       "        text-align: right;\n",
       "    }\n",
       "</style>\n",
       "<table border=\"1\" class=\"dataframe\">\n",
       "  <thead>\n",
       "    <tr style=\"text-align: right;\">\n",
       "      <th></th>\n",
       "      <th>0</th>\n",
       "      <th>1</th>\n",
       "      <th>2</th>\n",
       "      <th>3</th>\n",
       "      <th>4</th>\n",
       "      <th>5</th>\n",
       "      <th>6</th>\n",
       "      <th>7</th>\n",
       "      <th>8</th>\n",
       "      <th>9</th>\n",
       "      <th>...</th>\n",
       "      <th>140</th>\n",
       "      <th>141</th>\n",
       "      <th>142</th>\n",
       "      <th>143</th>\n",
       "      <th>144</th>\n",
       "      <th>145</th>\n",
       "      <th>146</th>\n",
       "      <th>147</th>\n",
       "      <th>148</th>\n",
       "      <th>149</th>\n",
       "    </tr>\n",
       "  </thead>\n",
       "  <tbody>\n",
       "    <tr>\n",
       "      <th>0</th>\n",
       "      <td>2.0</td>\n",
       "      <td>4.0</td>\n",
       "      <td>0.0</td>\n",
       "      <td>0.0</td>\n",
       "      <td>2.0</td>\n",
       "      <td>2.0</td>\n",
       "      <td>4.0</td>\n",
       "      <td>11.0</td>\n",
       "      <td>5.0</td>\n",
       "      <td>2.0</td>\n",
       "      <td>...</td>\n",
       "      <td>5.0</td>\n",
       "      <td>2.0</td>\n",
       "      <td>10.0</td>\n",
       "      <td>4.0</td>\n",
       "      <td>6.0</td>\n",
       "      <td>4.0</td>\n",
       "      <td>2.0</td>\n",
       "      <td>13.0</td>\n",
       "      <td>8.0</td>\n",
       "      <td>9.0</td>\n",
       "    </tr>\n",
       "    <tr>\n",
       "      <th>1</th>\n",
       "      <td>3.0</td>\n",
       "      <td>2.0</td>\n",
       "      <td>0.0</td>\n",
       "      <td>0.0</td>\n",
       "      <td>2.0</td>\n",
       "      <td>0.0</td>\n",
       "      <td>0.0</td>\n",
       "      <td>2.0</td>\n",
       "      <td>5.0</td>\n",
       "      <td>1.0</td>\n",
       "      <td>...</td>\n",
       "      <td>1.0</td>\n",
       "      <td>0.0</td>\n",
       "      <td>1.0</td>\n",
       "      <td>1.0</td>\n",
       "      <td>3.0</td>\n",
       "      <td>0.0</td>\n",
       "      <td>2.0</td>\n",
       "      <td>2.0</td>\n",
       "      <td>1.0</td>\n",
       "      <td>2.0</td>\n",
       "    </tr>\n",
       "    <tr>\n",
       "      <th>2</th>\n",
       "      <td>2.0</td>\n",
       "      <td>2.0</td>\n",
       "      <td>4.0</td>\n",
       "      <td>4.0</td>\n",
       "      <td>8.0</td>\n",
       "      <td>1.0</td>\n",
       "      <td>8.0</td>\n",
       "      <td>6.0</td>\n",
       "      <td>4.0</td>\n",
       "      <td>1.0</td>\n",
       "      <td>...</td>\n",
       "      <td>3.0</td>\n",
       "      <td>3.0</td>\n",
       "      <td>10.0</td>\n",
       "      <td>2.0</td>\n",
       "      <td>2.0</td>\n",
       "      <td>6.0</td>\n",
       "      <td>1.0</td>\n",
       "      <td>4.0</td>\n",
       "      <td>2.0</td>\n",
       "      <td>2.0</td>\n",
       "    </tr>\n",
       "    <tr>\n",
       "      <th>3</th>\n",
       "      <td>0.0</td>\n",
       "      <td>0.0</td>\n",
       "      <td>0.0</td>\n",
       "      <td>2.0</td>\n",
       "      <td>14.0</td>\n",
       "      <td>1.0</td>\n",
       "      <td>1.0</td>\n",
       "      <td>3.0</td>\n",
       "      <td>2.0</td>\n",
       "      <td>3.0</td>\n",
       "      <td>...</td>\n",
       "      <td>2.0</td>\n",
       "      <td>3.0</td>\n",
       "      <td>3.0</td>\n",
       "      <td>0.0</td>\n",
       "      <td>7.0</td>\n",
       "      <td>0.0</td>\n",
       "      <td>1.0</td>\n",
       "      <td>10.0</td>\n",
       "      <td>8.0</td>\n",
       "      <td>5.0</td>\n",
       "    </tr>\n",
       "    <tr>\n",
       "      <th>4</th>\n",
       "      <td>1.0</td>\n",
       "      <td>1.0</td>\n",
       "      <td>3.0</td>\n",
       "      <td>0.0</td>\n",
       "      <td>7.0</td>\n",
       "      <td>4.0</td>\n",
       "      <td>3.0</td>\n",
       "      <td>0.0</td>\n",
       "      <td>6.0</td>\n",
       "      <td>2.0</td>\n",
       "      <td>...</td>\n",
       "      <td>3.0</td>\n",
       "      <td>0.0</td>\n",
       "      <td>3.0</td>\n",
       "      <td>0.0</td>\n",
       "      <td>2.0</td>\n",
       "      <td>3.0</td>\n",
       "      <td>0.0</td>\n",
       "      <td>2.0</td>\n",
       "      <td>12.0</td>\n",
       "      <td>0.0</td>\n",
       "    </tr>\n",
       "    <tr>\n",
       "      <th>...</th>\n",
       "      <td>...</td>\n",
       "      <td>...</td>\n",
       "      <td>...</td>\n",
       "      <td>...</td>\n",
       "      <td>...</td>\n",
       "      <td>...</td>\n",
       "      <td>...</td>\n",
       "      <td>...</td>\n",
       "      <td>...</td>\n",
       "      <td>...</td>\n",
       "      <td>...</td>\n",
       "      <td>...</td>\n",
       "      <td>...</td>\n",
       "      <td>...</td>\n",
       "      <td>...</td>\n",
       "      <td>...</td>\n",
       "      <td>...</td>\n",
       "      <td>...</td>\n",
       "      <td>...</td>\n",
       "      <td>...</td>\n",
       "      <td>...</td>\n",
       "    </tr>\n",
       "    <tr>\n",
       "      <th>345</th>\n",
       "      <td>1.0</td>\n",
       "      <td>2.0</td>\n",
       "      <td>0.0</td>\n",
       "      <td>2.0</td>\n",
       "      <td>0.0</td>\n",
       "      <td>6.0</td>\n",
       "      <td>0.0</td>\n",
       "      <td>0.0</td>\n",
       "      <td>4.0</td>\n",
       "      <td>1.0</td>\n",
       "      <td>...</td>\n",
       "      <td>6.0</td>\n",
       "      <td>5.0</td>\n",
       "      <td>5.0</td>\n",
       "      <td>1.0</td>\n",
       "      <td>3.0</td>\n",
       "      <td>0.0</td>\n",
       "      <td>0.0</td>\n",
       "      <td>0.0</td>\n",
       "      <td>1.0</td>\n",
       "      <td>0.0</td>\n",
       "    </tr>\n",
       "    <tr>\n",
       "      <th>346</th>\n",
       "      <td>4.0</td>\n",
       "      <td>0.0</td>\n",
       "      <td>2.0</td>\n",
       "      <td>2.0</td>\n",
       "      <td>0.0</td>\n",
       "      <td>0.0</td>\n",
       "      <td>2.0</td>\n",
       "      <td>0.0</td>\n",
       "      <td>5.0</td>\n",
       "      <td>1.0</td>\n",
       "      <td>...</td>\n",
       "      <td>0.0</td>\n",
       "      <td>4.0</td>\n",
       "      <td>3.0</td>\n",
       "      <td>4.0</td>\n",
       "      <td>1.0</td>\n",
       "      <td>1.0</td>\n",
       "      <td>1.0</td>\n",
       "      <td>2.0</td>\n",
       "      <td>1.0</td>\n",
       "      <td>1.0</td>\n",
       "    </tr>\n",
       "    <tr>\n",
       "      <th>347</th>\n",
       "      <td>3.0</td>\n",
       "      <td>3.0</td>\n",
       "      <td>1.0</td>\n",
       "      <td>2.0</td>\n",
       "      <td>3.0</td>\n",
       "      <td>8.0</td>\n",
       "      <td>3.0</td>\n",
       "      <td>2.0</td>\n",
       "      <td>9.0</td>\n",
       "      <td>3.0</td>\n",
       "      <td>...</td>\n",
       "      <td>3.0</td>\n",
       "      <td>6.0</td>\n",
       "      <td>3.0</td>\n",
       "      <td>1.0</td>\n",
       "      <td>2.0</td>\n",
       "      <td>0.0</td>\n",
       "      <td>2.0</td>\n",
       "      <td>7.0</td>\n",
       "      <td>0.0</td>\n",
       "      <td>1.0</td>\n",
       "    </tr>\n",
       "    <tr>\n",
       "      <th>348</th>\n",
       "      <td>4.0</td>\n",
       "      <td>2.0</td>\n",
       "      <td>2.0</td>\n",
       "      <td>0.0</td>\n",
       "      <td>0.0</td>\n",
       "      <td>5.0</td>\n",
       "      <td>1.0</td>\n",
       "      <td>0.0</td>\n",
       "      <td>6.0</td>\n",
       "      <td>2.0</td>\n",
       "      <td>...</td>\n",
       "      <td>3.0</td>\n",
       "      <td>2.0</td>\n",
       "      <td>1.0</td>\n",
       "      <td>0.0</td>\n",
       "      <td>3.0</td>\n",
       "      <td>1.0</td>\n",
       "      <td>0.0</td>\n",
       "      <td>1.0</td>\n",
       "      <td>0.0</td>\n",
       "      <td>1.0</td>\n",
       "    </tr>\n",
       "    <tr>\n",
       "      <th>349</th>\n",
       "      <td>3.0</td>\n",
       "      <td>2.0</td>\n",
       "      <td>1.0</td>\n",
       "      <td>1.0</td>\n",
       "      <td>0.0</td>\n",
       "      <td>3.0</td>\n",
       "      <td>5.0</td>\n",
       "      <td>3.0</td>\n",
       "      <td>5.0</td>\n",
       "      <td>1.0</td>\n",
       "      <td>...</td>\n",
       "      <td>1.0</td>\n",
       "      <td>1.0</td>\n",
       "      <td>1.0</td>\n",
       "      <td>3.0</td>\n",
       "      <td>0.0</td>\n",
       "      <td>0.0</td>\n",
       "      <td>2.0</td>\n",
       "      <td>5.0</td>\n",
       "      <td>3.0</td>\n",
       "      <td>2.0</td>\n",
       "    </tr>\n",
       "  </tbody>\n",
       "</table>\n",
       "<p>350 rows × 150 columns</p>\n",
       "</div>"
      ],
      "text/plain": [
       "     0    1    2    3     4    5    6     7    8    9    ...  140  141   142  \\\n",
       "0    2.0  4.0  0.0  0.0   2.0  2.0  4.0  11.0  5.0  2.0  ...  5.0  2.0  10.0   \n",
       "1    3.0  2.0  0.0  0.0   2.0  0.0  0.0   2.0  5.0  1.0  ...  1.0  0.0   1.0   \n",
       "2    2.0  2.0  4.0  4.0   8.0  1.0  8.0   6.0  4.0  1.0  ...  3.0  3.0  10.0   \n",
       "3    0.0  0.0  0.0  2.0  14.0  1.0  1.0   3.0  2.0  3.0  ...  2.0  3.0   3.0   \n",
       "4    1.0  1.0  3.0  0.0   7.0  4.0  3.0   0.0  6.0  2.0  ...  3.0  0.0   3.0   \n",
       "..   ...  ...  ...  ...   ...  ...  ...   ...  ...  ...  ...  ...  ...   ...   \n",
       "345  1.0  2.0  0.0  2.0   0.0  6.0  0.0   0.0  4.0  1.0  ...  6.0  5.0   5.0   \n",
       "346  4.0  0.0  2.0  2.0   0.0  0.0  2.0   0.0  5.0  1.0  ...  0.0  4.0   3.0   \n",
       "347  3.0  3.0  1.0  2.0   3.0  8.0  3.0   2.0  9.0  3.0  ...  3.0  6.0   3.0   \n",
       "348  4.0  2.0  2.0  0.0   0.0  5.0  1.0   0.0  6.0  2.0  ...  3.0  2.0   1.0   \n",
       "349  3.0  2.0  1.0  1.0   0.0  3.0  5.0   3.0  5.0  1.0  ...  1.0  1.0   1.0   \n",
       "\n",
       "     143  144  145  146   147   148  149  \n",
       "0    4.0  6.0  4.0  2.0  13.0   8.0  9.0  \n",
       "1    1.0  3.0  0.0  2.0   2.0   1.0  2.0  \n",
       "2    2.0  2.0  6.0  1.0   4.0   2.0  2.0  \n",
       "3    0.0  7.0  0.0  1.0  10.0   8.0  5.0  \n",
       "4    0.0  2.0  3.0  0.0   2.0  12.0  0.0  \n",
       "..   ...  ...  ...  ...   ...   ...  ...  \n",
       "345  1.0  3.0  0.0  0.0   0.0   1.0  0.0  \n",
       "346  4.0  1.0  1.0  1.0   2.0   1.0  1.0  \n",
       "347  1.0  2.0  0.0  2.0   7.0   0.0  1.0  \n",
       "348  0.0  3.0  1.0  0.0   1.0   0.0  1.0  \n",
       "349  3.0  0.0  0.0  2.0   5.0   3.0  2.0  \n",
       "\n",
       "[350 rows x 150 columns]"
      ]
     },
     "execution_count": 20,
     "metadata": {},
     "output_type": "execute_result"
    }
   ],
   "source": [
    "X_train"
   ]
  },
  {
   "cell_type": "code",
   "execution_count": null,
   "metadata": {
    "scrolled": true
   },
   "outputs": [],
   "source": [
    "train_df"
   ]
  },
  {
   "cell_type": "code",
   "execution_count": 21,
   "metadata": {},
   "outputs": [],
   "source": [
    "for index, row in test_df.iterrows():\n",
    "    labels = model.predict(pd.DataFrame(row[\"Descriptors\"]).astype(float))\n",
    "    unique, counts = np.unique(labels, return_counts=True)\n",
    "    X_test = X_test.append(dict(zip(unique, counts)), ignore_index=True)"
   ]
  },
  {
   "cell_type": "code",
   "execution_count": 22,
   "metadata": {},
   "outputs": [],
   "source": [
    "X_test.fillna(0, inplace=True)"
   ]
  },
  {
   "cell_type": "code",
   "execution_count": null,
   "metadata": {},
   "outputs": [],
   "source": [
    "X_test"
   ]
  },
  {
   "cell_type": "code",
   "execution_count": 23,
   "metadata": {},
   "outputs": [],
   "source": [
    "le = LabelEncoder().fit(train_df['Category'])"
   ]
  },
  {
   "cell_type": "code",
   "execution_count": 24,
   "metadata": {},
   "outputs": [],
   "source": [
    "y_train = le.transform(train_df['Category'])\n",
    "y_test = le.transform(test_df['Category'])"
   ]
  },
  {
   "cell_type": "code",
   "execution_count": null,
   "metadata": {},
   "outputs": [],
   "source": [
    "y_test"
   ]
  },
  {
   "cell_type": "markdown",
   "metadata": {},
   "source": [
    "### CatBoostClassifier "
   ]
  },
  {
   "cell_type": "code",
   "execution_count": 25,
   "metadata": {},
   "outputs": [],
   "source": [
    "from catboost import CatBoostClassifier\n",
    "\n",
    "clf = CatBoostClassifier(\n",
    "    iterations=10, \n",
    "    learning_rate=0.1, \n",
    "    #loss_function='CrossEntropy'\n",
    ")"
   ]
  },
  {
   "cell_type": "code",
   "execution_count": null,
   "metadata": {},
   "outputs": [],
   "source": [
    "type(small_directory_names)"
   ]
  },
  {
   "cell_type": "code",
   "execution_count": 26,
   "metadata": {},
   "outputs": [
    {
     "name": "stdout",
     "output_type": "stream",
     "text": [
      "0:\tlearn: 1.0859043\ttotal: 66.5ms\tremaining: 598ms\n",
      "1:\tlearn: 1.0698398\ttotal: 70.1ms\tremaining: 280ms\n",
      "2:\tlearn: 1.0569904\ttotal: 73.2ms\tremaining: 171ms\n",
      "3:\tlearn: 1.0403937\ttotal: 76.1ms\tremaining: 114ms\n",
      "4:\tlearn: 1.0305128\ttotal: 79.1ms\tremaining: 79.1ms\n",
      "5:\tlearn: 1.0143687\ttotal: 82.2ms\tremaining: 54.8ms\n",
      "6:\tlearn: 0.9981562\ttotal: 85.1ms\tremaining: 36.5ms\n",
      "7:\tlearn: 0.9840703\ttotal: 88.2ms\tremaining: 22.1ms\n",
      "8:\tlearn: 0.9733725\ttotal: 91ms\tremaining: 10.1ms\n",
      "9:\tlearn: 0.9620460\ttotal: 94.1ms\tremaining: 0us\n"
     ]
    },
    {
     "data": {
      "text/plain": [
       "<catboost.core.CatBoostClassifier at 0x7f89d0fc7990>"
      ]
     },
     "execution_count": 26,
     "metadata": {},
     "output_type": "execute_result"
    }
   ],
   "source": [
    "clf.fit(\n",
    "    X_train, y_train\n",
    "    # cat_features=[0, 1, 2]\n",
    ")"
   ]
  },
  {
   "cell_type": "code",
   "execution_count": 27,
   "metadata": {},
   "outputs": [],
   "source": [
    "y_pred = clf.predict(data=X_test)"
   ]
  },
  {
   "cell_type": "markdown",
   "metadata": {},
   "source": [
    "### Results"
   ]
  },
  {
   "cell_type": "code",
   "execution_count": 28,
   "metadata": {},
   "outputs": [
    {
     "name": "stdout",
     "output_type": "stream",
     "text": [
      "----- Accuracy: 41.22 % -----\n"
     ]
    },
    {
     "data": {
      "image/png": "[encoded data removed]",
      "text/plain": [
       "<Figure size 432x288 with 2 Axes>"
      ]
     },
     "metadata": {},
     "output_type": "display_data"
    }
   ],
   "source": [
    "print(f'----- Accuracy: {accuracy_score(y_test, y_pred) * 100:.2f} % -----')\n",
    "\n",
    "df_cm = pd.DataFrame(confusion_matrix(y_test, y_pred), small_directory_names, small_directory_names)\n",
    "# plt.figure(figsize=(10,7))\n",
    "sns.set(font_scale=1.4) # for label size\n",
    "sns.heatmap(df_cm, annot=True, annot_kws={\"size\": 16}) # font size\n",
    "\n",
    "plt.show()"
   ]
  },
  {
   "cell_type": "code",
   "execution_count": null,
   "metadata": {},
   "outputs": [],
   "source": []
  }
 ],
 "metadata": {
  "kernelspec": {
   "display_name": "Python 3",
   "language": "python",
   "name": "python3"
  },
  "language_info": {
   "codemirror_mode": {
    "name": "ipython",
    "version": 3
   },
   "file_extension": ".py",
   "mimetype": "text/x-python",
   "name": "python",
   "nbconvert_exporter": "python",
   "pygments_lexer": "ipython3",
   "version": "3.7.7"
  }
 },
 "nbformat": 4,
 "nbformat_minor": 4
}
